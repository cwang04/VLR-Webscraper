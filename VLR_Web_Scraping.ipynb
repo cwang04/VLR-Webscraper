{
 "cells": [
  {
   "cell_type": "code",
   "execution_count": 1,
   "id": "c5136952",
   "metadata": {},
   "outputs": [],
   "source": [
    "!py -m venv venv"
   ]
  },
  {
   "cell_type": "code",
   "execution_count": 2,
   "id": "4058e93a",
   "metadata": {},
   "outputs": [
    {
     "name": "stdout",
     "output_type": "stream",
     "text": [
      "Requirement already satisfied: requests in c:\\users\\cjwan\\appdata\\roaming\\python\\python39\\site-packages (2.25.1)\n",
      "Requirement already satisfied: urllib3<1.27,>=1.21.1 in c:\\users\\cjwan\\appdata\\roaming\\python\\python39\\site-packages (from requests) (1.26.6)\n",
      "Requirement already satisfied: chardet<5,>=3.0.2 in c:\\users\\cjwan\\appdata\\roaming\\python\\python39\\site-packages (from requests) (4.0.0)\n",
      "Requirement already satisfied: idna<3,>=2.5 in c:\\users\\cjwan\\appdata\\roaming\\python\\python39\\site-packages (from requests) (2.10)\n",
      "Requirement already satisfied: certifi>=2017.4.17 in c:\\users\\cjwan\\appdata\\roaming\\python\\python39\\site-packages (from requests) (2021.5.30)\n"
     ]
    },
    {
     "name": "stderr",
     "output_type": "stream",
     "text": [
      "WARNING: You are using pip version 21.1.3; however, version 22.3.1 is available.\n",
      "You should consider upgrading via the 'C:\\Users\\cjwan\\AppData\\Local\\Programs\\Python\\Python39\\python.exe -m pip install --upgrade pip' command.\n"
     ]
    },
    {
     "name": "stdout",
     "output_type": "stream",
     "text": [
      "Requirement already satisfied: beautifulsoup4 in c:\\users\\cjwan\\appdata\\local\\programs\\python\\python39\\lib\\site-packages (4.11.1)\n",
      "Requirement already satisfied: soupsieve>1.2 in c:\\users\\cjwan\\appdata\\local\\programs\\python\\python39\\lib\\site-packages (from beautifulsoup4) (2.3.2.post1)\n"
     ]
    },
    {
     "name": "stderr",
     "output_type": "stream",
     "text": [
      "WARNING: You are using pip version 21.1.3; however, version 22.3.1 is available.\n",
      "You should consider upgrading via the 'C:\\Users\\cjwan\\AppData\\Local\\Programs\\Python\\Python39\\python.exe -m pip install --upgrade pip' command.\n"
     ]
    }
   ],
   "source": [
    "!py -m pip install requests\n",
    "!py -m pip install beautifulsoup4"
   ]
  },
  {
   "cell_type": "markdown",
   "id": "16248f4d",
   "metadata": {},
   "source": [
    "Creates a method to webscrape tournament stat pages for vlr. "
   ]
  },
  {
   "cell_type": "code",
   "execution_count": 2,
   "id": "d7b8680b",
   "metadata": {},
   "outputs": [],
   "source": [
    "#imports necessary libraries\n",
    "import requests\n",
    "from bs4 import BeautifulSoup\n",
    "import pandas as pd"
   ]
  },
  {
   "cell_type": "code",
   "execution_count": 6,
   "id": "b4521ece",
   "metadata": {},
   "outputs": [],
   "source": [
    "#function to be applied for every vlr tournament, takes the url of the webpage and the name of the file that you want to save it as\n",
    "def vlr_tournament_webscrape(URL, csv_filename):\n",
    "    '''Function to scrape through the stats page of a valorant tournament on vlr.gg.\n",
    "    Uses beautifulsoup to scrape through the html data and extract relevant information.\n",
    "    example code to run to collect VCT Champs 2022 stats:\n",
    "    vlr_tournament_webscrape('https://www.vlr.gg/event/stats/1015/valorant-champions-2022', 'vctchamps22')'''\n",
    "    page = requests.get(URL)\n",
    "\n",
    "    soup = BeautifulSoup(page.content, \"html.parser\")\n",
    "    tbody = soup.find('table').find('tbody').find_all('tr')\n",
    "\n",
    "    #parsing the web scraped data\n",
    "    df = pd.DataFrame(columns=['Player', 'Country', 'Team', 'Agent_1', 'Agent_2', 'Agent_3', 'Agent_4', 'Agent_5', 'Rounds', \n",
    "                                     'ACS', 'KD', 'KAST', 'ADR', 'KPR', 'APR', 'FKPR', 'FDPR', 'HS_Rate', 'Clutch_Rate', 'Succesful_Clutches', \n",
    "                                     'Clutches_Attempted', 'Max_Kills', 'Kills', 'Deaths', 'Assists', 'FK', 'FD'])\n",
    "\n",
    "    for tr in tbody:\n",
    "        l = []\n",
    "        #gets the player name\n",
    "        player = tr.find('div', class_='text-of').text\n",
    "        l.append(player)\n",
    "        #gets the country abbreviation from flag img href\n",
    "        country = tr.find('i')['class'][1].split('-')[1]\n",
    "        l.append(country)\n",
    "        #gets the team name from text\n",
    "        team = tr.find('div', class_='stats-player-country').text\n",
    "        l.append(team)\n",
    "        #get the agents played\n",
    "        agentlist = tr.find('td', class_='mod-agents').find('div').find_all('img')\n",
    "        agents=[]\n",
    "        for i in range(5):\n",
    "            if i < len(agentlist):\n",
    "                agents.append(agentlist[i]['src'].split('/')[-1][:-4])\n",
    "            else:\n",
    "                agents.append('None')\n",
    "        l+=agents\n",
    "        #get number of rounds played\n",
    "        rounds = tr.find('td', class_='mod-rnd').text\n",
    "        l.append(int(rounds))\n",
    "        #get the next few stats (acs to clutch%)\n",
    "        stats_acs_clutch = tr.find_all('td', class_='mod-color-sq')\n",
    "        statlist = []\n",
    "        for stat in stats_acs_clutch:\n",
    "            temp = stat.find('div').find('span').text\n",
    "            if temp=='':\n",
    "                statlist.append(0)\n",
    "            elif '%' in temp:\n",
    "                statlist.append(float(temp.replace('%',''))/100)\n",
    "            else:\n",
    "                statlist.append(float(temp))\n",
    "        l+=statlist\n",
    "        #get the succesful clutches and the attempted clutches\n",
    "        clutches = tr.find('td', class_='mod-cl').text.strip()\n",
    "        if clutches!='':\n",
    "            l.append(int(clutches.split('/')[0]))\n",
    "            l.append(int(clutches.split('/')[1]))\n",
    "        else:\n",
    "            l.append(0)\n",
    "            l.append(0)\n",
    "        #get the max kills in a map\n",
    "        max_kills = tr.find('td', class_='mod-a mod-kmax').text.strip()\n",
    "        l.append(int(max_kills))\n",
    "        #get the rest of the stats kills - FD\n",
    "        raw_stats = tr.find_all('td')[:][-5:]\n",
    "        for stat in raw_stats:\n",
    "            l.append(int(stat.text))\n",
    "        df.loc[len(df.index)] = l  \n",
    "    \n",
    "    print(df)\n",
    "    df.to_csv(csv_filename+'.csv', header=True, index=False)\n",
    "    \n",
    "\n",
    "    "
   ]
  },
  {
   "cell_type": "code",
   "execution_count": 4,
   "id": "b3fcec1c",
   "metadata": {},
   "outputs": [],
   "source": [
    "#cleans up the data, i.e. replaces the two letter country code with the full country name\n",
    "def clean_vlr_data(csv_filename, new_csv_filename):\n",
    "    '''A method that will clean up the webscraped vlr tournament data.\n",
    "    The main point of this method is to convert the two letter country codes to\n",
    "    their corresponding countries, as the codes are not always intuitive.\n",
    "    Example code for how to run:\n",
    "    clean_vlr_data('vctchamps22', 'vctchamps22')\n",
    "    '''\n",
    "    #dictionary of country codes to the country names, more to be added later\n",
    "    country = {'cl':'Chile', 'us':'United States', 'fi':'Finland', 'cn':'China', 'ca':'Canada', 'jp':'Japan', 'tr':'Turkey',\n",
    "              'sg':'Singapore', 'lv':'Latvia', 'kr':'Korea', 'se':'Sweden', 'br':'Brazil', 'be':'Belgium', 'id':'Indonesia',\n",
    "              'un':'Not Representing', 'ru':'Russia', 'th':'Thailand', 'gb':'United Kingdom', 'ar':'Argentina', 'ua':'Ukraine',\n",
    "              'kz':'Kazhakstan', 'my':'Malaysia', 'fr':'France', 'cz':'Czech Republic', 'hr':'Croatia', 'lt':'Lithuania', 'pl':'Poland',\n",
    "              'es':'Estonia', 'dk':'Denmark', 'ph':'Philipines'}\n",
    "    df = pd.read_csv(csv_filename+'.csv')\n",
    "    #converts the country codes to its corresponding country\n",
    "    df['Country'] = df['Country'].apply(lambda x: country[x])\n",
    "    \n",
    "    print(df)\n",
    "    df.to_csv(new_csv_filename+'.csv', header=True, index=False)"
   ]
  },
  {
   "cell_type": "code",
   "execution_count": 7,
   "id": "b3ba52a1",
   "metadata": {},
   "outputs": [
    {
     "name": "stdout",
     "output_type": "stream",
     "text": [
      "      Player Country    Team    Agent_1  Agent_2  Agent_3 Agent_4 Agent_5  \\\n",
      "0       lule      br     BDF       jett     neon  chamber    None    None   \n",
      "1    Bizinha      br  MIBR.F    chamber     jett     None    None    None   \n",
      "2     bstrdd      cl      TL       raze     jett     kayo    None    None   \n",
      "3       isa1      br    deLi       jett  chamber     None    None    None   \n",
      "4    m4ndzin      br     ODK  brimstone     neon     omen    None    None   \n",
      "..       ...     ...     ...        ...      ...      ...     ...     ...   \n",
      "105    crona      br            chamber     omen     None    None    None   \n",
      "106      ell      br    RABB     breach    astra     None    None    None   \n",
      "107     Caos      br    Inde      viper     omen     None    None    None   \n",
      "108     ishi      un    RABB      viper     fade     None    None    None   \n",
      "109    foXs2      br    Insa       kayo     sova     None    None    None   \n",
      "\n",
      "    Rounds    ACS  ...  HS_Rate  Clutch_Rate  Succesful_Clutches  \\\n",
      "0      369  267.5  ...     0.22         0.11                   4   \n",
      "1      393  255.8  ...     0.21         0.08                   3   \n",
      "2      875  255.4  ...     0.27         0.31                  16   \n",
      "3      405  250.3  ...     0.19         0.17                   7   \n",
      "4      736  247.8  ...     0.22         0.23                  15   \n",
      "..     ...    ...  ...      ...          ...                 ...   \n",
      "105     33   93.5  ...     0.10         0.00                   0   \n",
      "106     31   87.5  ...     0.15         0.00                   0   \n",
      "107     27   85.5  ...     0.30         0.00                   0   \n",
      "108     31   85.0  ...     0.32         0.00                   0   \n",
      "109     31   74.5  ...     0.19         0.00                   0   \n",
      "\n",
      "     Clutches_Attempted  Max_Kills  Kills  Deaths  Assists   FK   FD  \n",
      "0                    35         26    326     276       64   89   58  \n",
      "1                    36         27    345     264       68   81   48  \n",
      "2                    51         39    775     606      220  155  105  \n",
      "3                    42         26    357     263       59   73   59  \n",
      "4                    65         26    629     504      266   84   76  \n",
      "..                  ...        ...    ...     ...      ...  ...  ...  \n",
      "105                   7          8     10      28        4    1    6  \n",
      "106                   5          7      9      29       10    0    3  \n",
      "107                   3          5      8      26        1    1    3  \n",
      "108                   0          5      8      30        3    2   11  \n",
      "109                   7          5      7      30        4    0    5  \n",
      "\n",
      "[110 rows x 27 columns]\n",
      "      Player           Country    Team    Agent_1  Agent_2  Agent_3 Agent_4  \\\n",
      "0       lule            Brazil     BDF       jett     neon  chamber    None   \n",
      "1    Bizinha            Brazil  MIBR.F    chamber     jett     None    None   \n",
      "2     bstrdd             Chile      TL       raze     jett     kayo    None   \n",
      "3       isa1            Brazil    deLi       jett  chamber     None    None   \n",
      "4    m4ndzin            Brazil     ODK  brimstone     neon     omen    None   \n",
      "..       ...               ...     ...        ...      ...      ...     ...   \n",
      "105    crona            Brazil     NaN    chamber     omen     None    None   \n",
      "106      ell            Brazil    RABB     breach    astra     None    None   \n",
      "107     Caos            Brazil    Inde      viper     omen     None    None   \n",
      "108     ishi  Not Representing    RABB      viper     fade     None    None   \n",
      "109    foXs2            Brazil    Insa       kayo     sova     None    None   \n",
      "\n",
      "    Agent_5  Rounds    ACS  ...  HS_Rate  Clutch_Rate  Succesful_Clutches  \\\n",
      "0      None     369  267.5  ...     0.22         0.11                   4   \n",
      "1      None     393  255.8  ...     0.21         0.08                   3   \n",
      "2      None     875  255.4  ...     0.27         0.31                  16   \n",
      "3      None     405  250.3  ...     0.19         0.17                   7   \n",
      "4      None     736  247.8  ...     0.22         0.23                  15   \n",
      "..      ...     ...    ...  ...      ...          ...                 ...   \n",
      "105    None      33   93.5  ...     0.10         0.00                   0   \n",
      "106    None      31   87.5  ...     0.15         0.00                   0   \n",
      "107    None      27   85.5  ...     0.30         0.00                   0   \n",
      "108    None      31   85.0  ...     0.32         0.00                   0   \n",
      "109    None      31   74.5  ...     0.19         0.00                   0   \n",
      "\n",
      "     Clutches_Attempted  Max_Kills  Kills  Deaths  Assists   FK   FD  \n",
      "0                    35         26    326     276       64   89   58  \n",
      "1                    36         27    345     264       68   81   48  \n",
      "2                    51         39    775     606      220  155  105  \n",
      "3                    42         26    357     263       59   73   59  \n",
      "4                    65         26    629     504      266   84   76  \n",
      "..                  ...        ...    ...     ...      ...  ...  ...  \n",
      "105                   7          8     10      28        4    1    6  \n",
      "106                   5          7      9      29       10    0    3  \n",
      "107                   3          5      8      26        1    1    3  \n",
      "108                   0          5      8      30        3    2   11  \n",
      "109                   7          5      7      30        4    0    5  \n",
      "\n",
      "[110 rows x 27 columns]\n"
     ]
    }
   ],
   "source": [
    "vlr_tournament_webscrape('https://www.vlr.gg/event/stats/1162/game-changers-brazil-series-2', 'gamechangers_brazil_22')\n",
    "clean_vlr_data('gamechangers_brazil_22' ,'gamechangers_brazil_22')"
   ]
  },
  {
   "cell_type": "code",
   "execution_count": 132,
   "id": "7e56fb18",
   "metadata": {},
   "outputs": [],
   "source": [
    "#deactivate python env\n",
    "!conda deactivate"
   ]
  },
  {
   "cell_type": "code",
   "execution_count": null,
   "id": "1028c16e",
   "metadata": {},
   "outputs": [],
   "source": []
  }
 ],
 "metadata": {
  "kernelspec": {
   "display_name": "Python 3 (ipykernel)",
   "language": "python",
   "name": "python3"
  },
  "language_info": {
   "codemirror_mode": {
    "name": "ipython",
    "version": 3
   },
   "file_extension": ".py",
   "mimetype": "text/x-python",
   "name": "python",
   "nbconvert_exporter": "python",
   "pygments_lexer": "ipython3",
   "version": "3.9.6"
  }
 },
 "nbformat": 4,
 "nbformat_minor": 5
}
